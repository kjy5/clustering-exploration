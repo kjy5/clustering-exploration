{
 "cells": [
  {
   "metadata": {},
   "cell_type": "markdown",
   "source": [
    "# Clustering\n",
    "Commutative-ly combine splats of similar depth to reduce sorting and improve performance."
   ],
   "id": "72eb60d034c3280f"
  },
  {
   "metadata": {
    "ExecuteTime": {
     "end_time": "2024-11-05T23:22:28.594291Z",
     "start_time": "2024-11-05T23:22:28.430859Z"
    }
   },
   "cell_type": "code",
   "source": [
    "import numpy as np\n",
    "import polars as pl"
   ],
   "id": "c4d8ae974904b25e",
   "outputs": [],
   "execution_count": 1
  },
  {
   "metadata": {
    "ExecuteTime": {
     "end_time": "2024-11-05T23:22:28.607228Z",
     "start_time": "2024-11-05T23:22:28.601900Z"
    }
   },
   "cell_type": "code",
   "source": [
    "# Load data.\n",
    "data = pl.scan_csv('data/alpha_vals.csv', infer_schema_length=757)"
   ],
   "id": "ebfbb83c04b9769",
   "outputs": [],
   "execution_count": 2
  },
  {
   "metadata": {},
   "cell_type": "markdown",
   "source": "# Compute provided output image for reference.",
   "id": "4045fa3b6d88f8be"
  },
  {
   "metadata": {
    "ExecuteTime": {
     "end_time": "2024-11-05T23:22:28.911670Z",
     "start_time": "2024-11-05T23:22:28.610248Z"
    }
   },
   "cell_type": "code",
   "source": [
    "import matplotlib.pyplot as plt\n",
    "from PIL import Image"
   ],
   "id": "df7487a7156b1460",
   "outputs": [],
   "execution_count": 3
  },
  {
   "metadata": {
    "ExecuteTime": {
     "end_time": "2024-11-05T23:22:29.002214Z",
     "start_time": "2024-11-05T23:22:28.987506Z"
    }
   },
   "cell_type": "code",
   "source": [
    "# Get the output image and size.\n",
    "# raw_out_colors = data.select(\"out_color_r\", \"out_color_g\", \"out_color_b\")\n",
    "ground_truth_image = Image.open(\"data/gt.png\")\n",
    "image_width, image_height = ground_truth_image.size"
   ],
   "id": "e0a572d8b4d37079",
   "outputs": [],
   "execution_count": 4
  },
  {
   "metadata": {
    "ExecuteTime": {
     "end_time": "2024-11-05T23:22:29.043399Z",
     "start_time": "2024-11-05T23:22:29.041834Z"
    }
   },
   "cell_type": "code",
   "source": [
    "# Reshape the output colors to be displayed.\n",
    "# out_colors_resized = raw_out_colors.collect().to_numpy().reshape(image_height, image_width, 3)"
   ],
   "id": "fb9512227eff8a3",
   "outputs": [],
   "execution_count": 5
  },
  {
   "metadata": {
    "ExecuteTime": {
     "end_time": "2024-11-05T23:22:29.078387Z",
     "start_time": "2024-11-05T23:22:29.076614Z"
    }
   },
   "cell_type": "code",
   "source": [
    "# Display it.\n",
    "# plt.imshow(out_colors_resized)\n",
    "# plt.axis('off')"
   ],
   "id": "90749066b45c492",
   "outputs": [],
   "execution_count": 6
  },
  {
   "metadata": {},
   "cell_type": "markdown",
   "source": "# Cluster Splats.",
   "id": "ac73df7c6bc3dbfc"
  },
  {
   "metadata": {
    "ExecuteTime": {
     "end_time": "2024-11-05T23:58:44.705787Z",
     "start_time": "2024-11-05T23:58:44.703136Z"
    }
   },
   "cell_type": "code",
   "source": [
    "# Number of clusters to use.\n",
    "CLUSTERS = 5\n",
    "FRACTION = 3"
   ],
   "id": "261455f3095ba534",
   "outputs": [],
   "execution_count": 34
  },
  {
   "metadata": {
    "ExecuteTime": {
     "end_time": "2024-11-05T23:22:36.973543Z",
     "start_time": "2024-11-05T23:22:29.110864Z"
    }
   },
   "cell_type": "code",
   "source": [
    "# Collect the raw splats.\n",
    "raw_splats = data.select(\n",
    "    pl.all().exclude(\"pixelNum\", \"out_color_r\", \"out_color_g\", \"out_color_b\", \"bg_color_r\", \"bg_color_g\",\n",
    "                     \"bg_color_b\")).collect().to_numpy()\n",
    "splats = raw_splats.reshape((image_height, image_width, raw_splats.shape[1] // 5, 5))\n"
   ],
   "id": "ad322e616b8735ae",
   "outputs": [],
   "execution_count": 8
  },
  {
   "metadata": {
    "ExecuteTime": {
     "end_time": "2024-11-05T23:22:37.618231Z",
     "start_time": "2024-11-05T23:22:36.988325Z"
    }
   },
   "cell_type": "code",
   "source": [
    "# Compute the minimum and maximum depth of the image.\n",
    "depth_values = splats[:, :, :, 1]\n",
    "depth_values = depth_values[depth_values > 0]\n",
    "min_depth = np.min(depth_values)\n",
    "max_depth = np.max(depth_values)\n",
    "\n",
    "print(f\"Min depth: {min_depth}, Max depth: {max_depth}\")\n",
    "print(f\"Each bin will be {(max_depth - min_depth) / CLUSTERS} units wide.\")"
   ],
   "id": "b9b42e572198ce9b",
   "outputs": [
    {
     "name": "stdout",
     "output_type": "stream",
     "text": [
      "Min depth: 2.78219, Max depth: 9.9975\n",
      "Each bin will be 1.443062 units wide.\n"
     ]
    }
   ],
   "execution_count": 9
  },
  {
   "metadata": {
    "ExecuteTime": {
     "end_time": "2024-11-05T23:22:37.727836Z",
     "start_time": "2024-11-05T23:22:37.683270Z"
    }
   },
   "cell_type": "code",
   "source": "from tqdm.contrib import itertools",
   "id": "f6e22997ef15eea2",
   "outputs": [],
   "execution_count": 10
  },
  {
   "metadata": {
    "ExecuteTime": {
     "end_time": "2024-11-06T00:52:47.110523Z",
     "start_time": "2024-11-06T00:52:11.096641Z"
    }
   },
   "cell_type": "code",
   "source": [
    "# Cluster each splat into a bin (h x w x cluster x rgb, a, count).\n",
    "clustered_splats = np.zeros((image_height // FRACTION, image_width // FRACTION, CLUSTERS, 5))\n",
    "\n",
    "for i, j in itertools.product(range(clustered_splats.shape[0]), range(clustered_splats.shape[1])):\n",
    "    # Initialize transmittance to 1.\n",
    "    clustered_splats[i, j, :, 3] = 1.0\n",
    "\n",
    "    # Cluster each splat.\n",
    "    for splat in splats[i, j]:\n",
    "        # Compute the cluster index.\n",
    "        cluster_index = int((splat[1] - min_depth) / (max_depth - min_depth) * (CLUSTERS - 1))\n",
    "\n",
    "        # Contribute this splat's color to the bin.\n",
    "        clustered_splats[i, j, cluster_index, :3] += splat[2:] * splat[0]\n",
    "\n",
    "        # Contribute this splat's alpha to the bin.\n",
    "        clustered_splats[i, j, cluster_index, 3] += splat[0]\n",
    "\n",
    "        # Contribute this splat's transmittance to the bin.\n",
    "        clustered_splats[i, j, cluster_index, 4] *= 1 - splat[0]"
   ],
   "id": "e2ef19c59e5d6067",
   "outputs": [
    {
     "data": {
      "text/plain": [
       "  0%|          | 0/116617 [00:00<?, ?it/s]"
      ],
      "application/vnd.jupyter.widget-view+json": {
       "version_major": 2,
       "version_minor": 0,
       "model_id": "08924714d69e43028b7bc2f9a6ae47b6"
      }
     },
     "metadata": {},
     "output_type": "display_data"
    }
   ],
   "execution_count": 43
  },
  {
   "metadata": {
    "ExecuteTime": {
     "end_time": "2024-11-06T00:59:16.169328Z",
     "start_time": "2024-11-06T00:59:15.740521Z"
    }
   },
   "cell_type": "code",
   "source": [
    "# Compute the color of each pixel using the clustered splats.\n",
    "computed_image = np.zeros((clustered_splats.shape[0], clustered_splats.shape[1], 3))\n",
    "\n",
    "for i, j in itertools.product(range(clustered_splats.shape[0]), range(clustered_splats.shape[1])):\n",
    "    pixel_transmittance = 1.0\n",
    "    for k in range(CLUSTERS):\n",
    "        # Skip if bin alpha is 0.\n",
    "        if clustered_splats[i, j, k, 3] == 0:\n",
    "            continue\n",
    "        # Skip if bin transmittance is 1 (that means the alpha value is 0).\n",
    "        if clustered_splats[i, j, k, 4] == 1:\n",
    "            continue\n",
    "        # End once pixel transmittance is 0.\n",
    "        if pixel_transmittance == 0:\n",
    "            break\n",
    "\n",
    "        # Add the color of this splat to the computed image.\n",
    "        computed_image[i, j] += (1 - clustered_splats[i, j, k, 4]) * clustered_splats[i, j, k, :3] / clustered_splats[i, j, k, 3] * pixel_transmittance\n",
    "        pixel_transmittance *= clustered_splats[i, j, k, 4]"
   ],
   "id": "d9a5eae046a97cfc",
   "outputs": [
    {
     "data": {
      "text/plain": [
       "  0%|          | 0/116617 [00:00<?, ?it/s]"
      ],
      "application/vnd.jupyter.widget-view+json": {
       "version_major": 2,
       "version_minor": 0,
       "model_id": "b648a024423c4d6995bfaa06415293a1"
      }
     },
     "metadata": {},
     "output_type": "display_data"
    }
   ],
   "execution_count": 49
  },
  {
   "metadata": {
    "ExecuteTime": {
     "end_time": "2024-11-06T00:59:18.517526Z",
     "start_time": "2024-11-06T00:59:18.475102Z"
    }
   },
   "cell_type": "code",
   "source": [
    "# Display the computed image.\n",
    "plt.imshow(computed_image)\n",
    "plt.axis('off')"
   ],
   "id": "908c2486a460c3a6",
   "outputs": [
    {
     "data": {
      "text/plain": [
       "(np.float64(-0.5), np.float64(420.5), np.float64(276.5), np.float64(-0.5))"
      ]
     },
     "execution_count": 50,
     "metadata": {},
     "output_type": "execute_result"
    },
    {
     "data": {
      "text/plain": [
       "<Figure size 640x480 with 1 Axes>"
      ],
      "image/png": "[encoded data removed]"
     },
     "metadata": {},
     "output_type": "display_data"
    }
   ],
   "execution_count": 50
  },
  {
   "metadata": {
    "ExecuteTime": {
     "end_time": "2024-11-05T23:27:38.266627Z",
     "start_time": "2024-11-05T23:27:38.265189Z"
    }
   },
   "cell_type": "code",
   "source": "",
   "id": "7d1894a89ec94509",
   "outputs": [],
   "execution_count": null
  }
 ],
 "metadata": {
  "kernelspec": {
   "display_name": "Python 3",
   "language": "python",
   "name": "python3"
  },
  "language_info": {
   "codemirror_mode": {
    "name": "ipython",
    "version": 2
   },
   "file_extension": ".py",
   "mimetype": "text/x-python",
   "name": "python",
   "nbconvert_exporter": "python",
   "pygments_lexer": "ipython2",
   "version": "2.7.6"
  }
 },
 "nbformat": 4,
 "nbformat_minor": 5
}
